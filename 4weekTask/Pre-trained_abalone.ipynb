{
 "cells": [
  {
   "cell_type": "markdown",
   "id": "07247ac6-5e1a-4eb7-9220-5162dac8fc76",
   "metadata": {},
   "source": [
    "# 과제 \n",
    "### (아발론 데이터 사용하여 CNN 구현, 모델 저장, 사전 학습으로 새로운 층과 출력 층 추가, 미세조정)"
   ]
  },
  {
   "cell_type": "code",
   "execution_count": null,
   "id": "c50bbb97-e0c6-4ad5-bd3a-873cb64db4a8",
   "metadata": {},
   "outputs": [],
   "source": []
  }
 ],
 "metadata": {
  "kernelspec": {
   "display_name": "Python 3 (ipykernel)",
   "language": "python",
   "name": "python3"
  },
  "language_info": {
   "codemirror_mode": {
    "name": "ipython",
    "version": 3
   },
   "file_extension": ".py",
   "mimetype": "text/x-python",
   "name": "python",
   "nbconvert_exporter": "python",
   "pygments_lexer": "ipython3",
   "version": "3.12.4"
  }
 },
 "nbformat": 4,
 "nbformat_minor": 5
}
