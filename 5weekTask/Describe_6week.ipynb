{
 "cells": [
  {
   "cell_type": "markdown",
   "id": "4c92a776-3e03-4620-bc8c-e3c4b4fe3bf8",
   "metadata": {},
   "source": [
    "### 6주차 수업 내용"
   ]
  },
  {
   "cell_type": "markdown",
   "id": "7a549569-6c22-450f-a4f7-c1f38c25d1dc",
   "metadata": {},
   "source": [
    "1. pre-trained model 을 사용하면 장점 (vgg, resr~)\n",
    "\n",
    "빠른 학습, 개발시간 향상, 이미 계산된 가중치와 + bias를 활용가능"
   ]
  },
  {
   "cell_type": "markdown",
   "id": "7dc0d2bc-1269-4f09-b0ed-ed266feac378",
   "metadata": {},
   "source": [
    "2. AE (auto encoder)의 목적\n",
    "\n",
    "차원축소하여 중요한 특징(latent vector)추출"
   ]
  },
  {
   "cell_type": "markdown",
   "id": "86ae9c98-34a4-43f2-9f51-c53e1c10f3fa",
   "metadata": {},
   "source": [
    "3. Transformer의 특징\n",
    "\n",
    "1) attention : 입력되는 데이터 중에서 어떤 것에 집중하냐 (self : 현재 데이터에서 같이 비교)\n",
    "2) embeding : 모든 데이터는 숫자(vector)로 바꿈\n",
    "3) positional : 위치 embeding\n",
    "4) multi-header : 각각의 어텐션을 구하기 위해 (속도)"
   ]
  },
  {
   "cell_type": "markdown",
   "id": "68a3e5fc-83b2-41dc-86d6-d1a8c98e5d40",
   "metadata": {},
   "source": [
    "4. pulling의 주요 역할\n",
    "\n",
    "1) 정보의 불변성\n",
    "2) 정보의 축약"
   ]
  },
  {
   "cell_type": "raw",
   "id": "85b096c7-a47c-4758-8c34-f845c37cbd11",
   "metadata": {},
   "source": [
    "정보의 요약이 중요, 작은 변화에도 일정한 불변성을 만들어줌"
   ]
  },
  {
   "cell_type": "code",
   "execution_count": null,
   "id": "7dc7731d-2eea-46cf-b369-3f255a336caf",
   "metadata": {},
   "outputs": [],
   "source": []
  },
  {
   "cell_type": "code",
   "execution_count": null,
   "id": "637abd6a-225c-49e7-a8ff-99eb7fac428f",
   "metadata": {},
   "outputs": [],
   "source": []
  },
  {
   "cell_type": "code",
   "execution_count": null,
   "id": "35f10d87-5758-4aa6-a7c7-762f7532e260",
   "metadata": {},
   "outputs": [],
   "source": []
  },
  {
   "cell_type": "code",
   "execution_count": null,
   "id": "89b57426-7117-4695-9eea-4a43a5da24ac",
   "metadata": {},
   "outputs": [],
   "source": []
  },
  {
   "cell_type": "code",
   "execution_count": null,
   "id": "2424839a-b976-4b9a-acc4-ab58f8d42a5f",
   "metadata": {},
   "outputs": [],
   "source": []
  },
  {
   "cell_type": "code",
   "execution_count": null,
   "id": "97bd37af-4320-40d7-b999-224db106a556",
   "metadata": {},
   "outputs": [],
   "source": []
  },
  {
   "cell_type": "code",
   "execution_count": null,
   "id": "3a070fff-8e0b-4eab-b250-355404883c7c",
   "metadata": {},
   "outputs": [],
   "source": []
  },
  {
   "cell_type": "code",
   "execution_count": null,
   "id": "0bce80cb-9f0a-4a1a-a554-8b7bd7a95eb3",
   "metadata": {},
   "outputs": [],
   "source": []
  }
 ],
 "metadata": {
  "kernelspec": {
   "display_name": "Python 3 (ipykernel)",
   "language": "python",
   "name": "python3"
  },
  "language_info": {
   "codemirror_mode": {
    "name": "ipython",
    "version": 3
   },
   "file_extension": ".py",
   "mimetype": "text/x-python",
   "name": "python",
   "nbconvert_exporter": "python",
   "pygments_lexer": "ipython3",
   "version": "3.12.4"
  }
 },
 "nbformat": 4,
 "nbformat_minor": 5
}
