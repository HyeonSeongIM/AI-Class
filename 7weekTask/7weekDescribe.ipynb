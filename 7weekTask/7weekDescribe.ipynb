{
 "cells": [
  {
   "cell_type": "markdown",
   "id": "fc862c77-fca9-4492-810e-a966dfd0657e",
   "metadata": {},
   "source": [
    "# 7주차 수업"
   ]
  },
  {
   "cell_type": "raw",
   "id": "30b2c794-0355-44d9-b038-202bd4563c31",
   "metadata": {},
   "source": [
    "Dense + FCNN => CNN 차이점\n",
    "CNN 기본 채널 동일하게 (채널과 공간 정보 추구)\n",
    "공간적 (인접한) 정보들 반영 여부 (local feature)\n",
    "? gradient vanashing problem 신경망의 깊이가 깊어질수록 역전파 계산 값이 소실\n",
    "\n",
    "! ResNet\n",
    "\n",
    "\n",
    "RNN 이전상태 + 입력\n",
    "LSTM 장기 cell \n",
    "\n",
    "Skip Connection\n",
    "장점 1) g'v'p 방지\n",
    "    2) 차이로 부터 학습을 유용하게 만듦\n",
    "\n",
    "\n",
    "Inception의 특징\n",
    "서로 다른 filter를 동시에 적용\n",
    "(depth convolution layer)\n",
    "|x| -> 차원축소\n",
    "\n",
    "? 방대한 데이터의 양\n",
    "\n",
    "! 중요도를 나누자\n",
    "SeNet \n",
    "각 채널의 중요도를 다르게 (attention) + (channel)\n",
    "-> 중요도를 어떻게 계산하나? Average Pooling layer (정보 뽑기)\n",
    "\n",
    "Depthwise Seperable -> pairwise \n",
    "\n",
    "CBAM \n",
    "channel attention 뿐만 아니라 spartial attention"
   ]
  },
  {
   "cell_type": "raw",
   "id": "ed028f17-2783-4287-8aa2-31bcfb18f26f",
   "metadata": {},
   "source": [
    "Transformer \n",
    "(seq2seq) - encoder & decoder 구조\n",
    "* self attention\n",
    "* embeding ex) 원-핫 인코딩 / 단점 : 데이터의 크기가 커지면 길이가 길어짐 => ! Vector\n",
    "* positional embeding\n",
    "* multi header attention\n",
    "\n",
    "global feature extract 인데 이제 local도 사용하기 위해 cnn 사용"
   ]
  },
  {
   "cell_type": "raw",
   "id": "fb791015-9185-4a94-a3cc-7d1b0bf29ad0",
   "metadata": {},
   "source": [
    "cross attention vs self attention vs scale dot attention"
   ]
  },
  {
   "cell_type": "raw",
   "id": "3f06fc2e-703e-4af8-bbd9-1089b03c2970",
   "metadata": {},
   "source": [
    "auto-encoder의 사용 목적\n",
    "차원축소 (지도, 비지도 다 사용가능하지만 비지도에 적합함)\n",
    "latent vector : 레이블이 필요없음 (규칙이 보일듯 말듯)"
   ]
  },
  {
   "cell_type": "raw",
   "id": "cf730667-5aed-4512-95e3-44851ceb540a",
   "metadata": {},
   "source": []
  },
  {
   "cell_type": "code",
   "execution_count": null,
   "id": "3c65282f-0f79-43a4-822a-a3e5062e3bad",
   "metadata": {},
   "outputs": [],
   "source": []
  },
  {
   "cell_type": "code",
   "execution_count": null,
   "id": "9fa3184b-406d-4220-9365-0f22c486de58",
   "metadata": {},
   "outputs": [],
   "source": []
  },
  {
   "cell_type": "code",
   "execution_count": null,
   "id": "fb7d7e13-caf6-4fbc-9d2b-38d77737ed0f",
   "metadata": {},
   "outputs": [],
   "source": []
  },
  {
   "cell_type": "code",
   "execution_count": null,
   "id": "2632b567-81d2-4074-966a-1392f78b63ac",
   "metadata": {},
   "outputs": [],
   "source": []
  },
  {
   "cell_type": "code",
   "execution_count": null,
   "id": "8711299e-12b9-4697-928f-52990e5c209c",
   "metadata": {},
   "outputs": [],
   "source": []
  },
  {
   "cell_type": "code",
   "execution_count": null,
   "id": "fd7321b5-b2f9-452b-9b7b-532bb3f8ef47",
   "metadata": {},
   "outputs": [],
   "source": []
  },
  {
   "cell_type": "code",
   "execution_count": null,
   "id": "ec03a473-fc1b-4d47-93eb-1e2f2ffbd480",
   "metadata": {},
   "outputs": [],
   "source": []
  },
  {
   "cell_type": "code",
   "execution_count": null,
   "id": "ead068fd-64d2-4aaf-acb6-7d2100694eff",
   "metadata": {},
   "outputs": [],
   "source": []
  },
  {
   "cell_type": "code",
   "execution_count": null,
   "id": "4dccec5a-a81e-4ae2-b4c0-2f5663c3e781",
   "metadata": {},
   "outputs": [],
   "source": []
  },
  {
   "cell_type": "code",
   "execution_count": null,
   "id": "d0131529-2c9f-477f-a6c5-18c0c8d33cb4",
   "metadata": {},
   "outputs": [],
   "source": []
  },
  {
   "cell_type": "code",
   "execution_count": null,
   "id": "afd0522b-396a-4f4e-92fb-fc2c8216b09b",
   "metadata": {},
   "outputs": [],
   "source": []
  }
 ],
 "metadata": {
  "kernelspec": {
   "display_name": "Python 3 (ipykernel)",
   "language": "python",
   "name": "python3"
  },
  "language_info": {
   "codemirror_mode": {
    "name": "ipython",
    "version": 3
   },
   "file_extension": ".py",
   "mimetype": "text/x-python",
   "name": "python",
   "nbconvert_exporter": "python",
   "pygments_lexer": "ipython3",
   "version": "3.12.4"
  }
 },
 "nbformat": 4,
 "nbformat_minor": 5
}
